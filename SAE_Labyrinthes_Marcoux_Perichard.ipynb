{
 "cells": [
  {
   "cell_type": "markdown",
   "id": "79c8d681",
   "metadata": {},
   "source": [
    "#### Corentin Marcoux - Romaric Perichard - TD3-B"
   ]
  },
  {
   "cell_type": "markdown",
   "id": "bb1a4212",
   "metadata": {},
   "source": [
    "## 4. Manipulation de labyrinthes"
   ]
  },
  {
   "cell_type": "code",
   "execution_count": 1,
   "id": "41eb4431",
   "metadata": {},
   "outputs": [],
   "source": [
    "import random"
   ]
  },
  {
   "cell_type": "code",
   "execution_count": 2,
   "id": "d05e1b8d",
   "metadata": {},
   "outputs": [],
   "source": [
    "class Maze:\n",
    "    \"\"\"\n",
    "    Classe Labyrinthe\n",
    "    Représentation sous forme de graphe non-orienté\n",
    "    dont chaque sommet est une cellule (un tuple (l,c))\n",
    "    et dont la structure est représentée par un dictionnaire\n",
    "      - clés : sommets\n",
    "      - valeurs : ensemble des sommets voisins accessibles\n",
    "    \"\"\"\n",
    "    def __init__(self, height, width):\n",
    "        \"\"\"\n",
    "        Constructeur d'un labyrinthe de height cellules de haut \n",
    "        et de width cellules de large \n",
    "        Les voisinages sont initialisés à des ensembles vides\n",
    "        Remarque : dans le labyrinthe créé, chaque cellule est complètement emmurée\n",
    "        \"\"\"\n",
    "        self.height    = height\n",
    "        self.width     = width\n",
    "        self.neighbors = {(i,j): set() for i in range(height) for j in range (width)}\n",
    "\n",
    "    def info(self):\n",
    "        \"\"\"\n",
    "        **NE PAS MODIFIER CETTE MÉTHODE**\n",
    "        Affichage des attributs d'un objet 'Maze' (fonction utile pour deboguer)\n",
    "        Retour:\n",
    "            chaîne (string): description textuelle des attributs de l'objet\n",
    "        \"\"\"\n",
    "        txt = \"**Informations sur le labyrinthe**\\n\"\n",
    "        txt += f\"- Dimensions de la grille : {self.height} x {self.width}\\n\"\n",
    "        txt += \"- Voisinages :\\n\"\n",
    "        txt += str(self.neighbors)+\"\\n\"\n",
    "        valid = True\n",
    "        for c1 in {(i, j) for i in range(self.height) for j in range(self.width)}:\n",
    "            for c2 in self.neighbors[c1]:\n",
    "                if c1 not in self.neighbors[c2]:\n",
    "                    valid = False\n",
    "                    break\n",
    "            else:\n",
    "                continue\n",
    "            break\n",
    "        txt += \"- Structure cohérente\\n\" if valid else f\"- Structure incohérente : {c1} X {c2}\\n\"\n",
    "        return txt\n",
    "\n",
    "    def __str__(self):\n",
    "        \"\"\"\n",
    "        **NE PAS MODIFIER CETTE MÉTHODE**\n",
    "        Représentation textuelle d'un objet Maze (en utilisant des caractères ascii)\n",
    "        Retour:\n",
    "             chaîne (str) : chaîne de caractères représentant le labyrinthe\n",
    "        \"\"\"\n",
    "        txt = \"\"\n",
    "        # Première ligne\n",
    "        txt += \"┏\"\n",
    "        for j in range(self.width-1):\n",
    "            txt += \"━━━┳\"\n",
    "        txt += \"━━━┓\\n\"\n",
    "        txt += \"┃\"\n",
    "        for j in range(self.width-1):\n",
    "            txt += \"   ┃\" if (0,j+1) not in self.neighbors[(0,j)] else \"    \"\n",
    "        txt += \"   ┃\\n\"\n",
    "        # Lignes normales\n",
    "        for i in range(self.height-1):\n",
    "            txt += \"┣\"\n",
    "            for j in range(self.width-1):\n",
    "                txt += \"━━━╋\" if (i+1,j) not in self.neighbors[(i,j)] else \"   ╋\"\n",
    "            txt += \"━━━┫\\n\" if (i+1,self.width-1) not in self.neighbors[(i,self.width-1)] else \"   ┫\\n\"\n",
    "            txt += \"┃\"\n",
    "            for j in range(self.width):\n",
    "                txt += \"   ┃\" if (i+1,j+1) not in self.neighbors[(i+1,j)] else \"    \"\n",
    "            txt += \"\\n\"\n",
    "        # Bas du tableau\n",
    "        txt += \"┗\"\n",
    "        for i in range(self.width-1):\n",
    "            txt += \"━━━┻\"\n",
    "        txt += \"━━━┛\\n\"\n",
    "\n",
    "        return txt\n",
    "    \n",
    "    def add_wall(self, c1, c2):\n",
    "        # Facultatif : on teste si les sommets sont bien dans le labyrinthe\n",
    "        assert 0 <= c1[0] < self.height and \\\n",
    "            0 <= c1[1] < self.width and \\\n",
    "            0 <= c2[0] < self.height and \\\n",
    "            0 <= c2[1] < self.width, \\\n",
    "            f\"Erreur lors de l'ajout d'un mur entre {c1} et {c2} : les coordonnées de sont pas compatibles avec les dimensions du labyrinthe\"\n",
    "        # Ajout du mur\n",
    "        if c2 in self.neighbors[c1]:      # Si c2 est dans les voisines de c1\n",
    "            self.neighbors[c1].remove(c2) # on le retire\n",
    "        if c1 in self.neighbors[c2]:      # Si c3 est dans les voisines de c2\n",
    "            self.neighbors[c2].remove(c1) # on le retire\n",
    "            \n",
    "    def get_cells(self):\n",
    "        L = []\n",
    "        for i in range(0, self.height):\n",
    "            for j in range(0, self.width):\n",
    "                L.append((i, j))\n",
    "        return L\n",
    "    \n",
    "\n",
    "    def remove_wall(self, c1, c2):\n",
    "        \"\"\"\n",
    "        Fonction qui supprime un mur entre deux cellules, on doit donc ajouter\n",
    "        une arête dans les deux sens entre les cellules pour qu'il soit completement\n",
    "        retirer.\n",
    "        \n",
    "        :param c1: Cellule d'un labyrinthe\n",
    "        :param c2: Cellule d'un labyrinthe\n",
    "        \"\"\"\n",
    "        self.neighbors[c1].add(c2)\n",
    "        self.neighbors[c2].add(c1)\n",
    "        \n",
    "    def get_walls(self):\n",
    "        \"\"\"\n",
    "        Fonction qui parcours toutes les cellules d'un labyrinthe et qui les stocks\n",
    "        dans une liste.\n",
    "        \n",
    "        :return: Retourne une liste \n",
    "        \"\"\"\n",
    "        L = []\n",
    "        for c1 in self.get_cells():\n",
    "            c2 = (c1[0],c1[1]+1)\n",
    "            c3 = (c1[0]+1, c1[1])\n",
    "            if c1[1]+1 < self.width and not c2 in self.neighbors[c1]:\n",
    "                L.append((c1, c2))\n",
    "            if c1[0]+1 < self.height and not c3 in self.neighbors[c1]:\n",
    "                L.append((c1, c3))\n",
    "        return L\n",
    "    \n",
    "    def fill(self):\n",
    "        \"\"\"\n",
    "        Fonction qui permet de remplir tout les murs d'un labyrinthe. Pour cela\n",
    "        on regarde si la cellule de droite et d'en dessous fait partie de sa liste\n",
    "        neighbors, si c'est le cas, cela signifie que il n'y a pas de mur\n",
    "        on supprime donc une arête pour créer un mur.\n",
    "        \"\"\"\n",
    "        for c1 in self.get_cells():\n",
    "            c2 = (c1[0], c1[1]+1)\n",
    "            c3 = (c1[0]+1, c1[1])\n",
    "            if c2 in self.neighbors[c1]:\n",
    "                self.add_wall(c1, c2)\n",
    "            if c3 in self.neighbors[c1]:\n",
    "                self.add_wall(c1, c3)\n",
    "                \n",
    "    def empty(self):\n",
    "        \"\"\"\n",
    "        Fonction qui permet de retirer tout les murs d'un labyrinthe. Parcours\n",
    "        toutes les cellules et supprimes les murs de ses cellules voisines.\n",
    "        \"\"\"\n",
    "        for c1 in self.get_cells():\n",
    "            c2 = (c1[0], c1[1]+1)\n",
    "            c3 = (c1[0]+1, c1[1])\n",
    "            if c1[1]+1 < self.width:\n",
    "                self.remove_wall(c1, c2)\n",
    "            if c1[0]+1 < self.height:\n",
    "                self.remove_wall(c1, c3)        \n",
    "    \n",
    "    \n",
    "    def get_contiguous_cells(self, c):\n",
    "        \"\"\"\n",
    "        Fonction qui liste les cellules voisines par rapport à une cellule\n",
    "        mise en paramètre. On regarde simplement à droite, à gauche, en dessous et au dessus\n",
    "        pour vérifier si il existe des cellules voisines. Enfin on stock dans une liste\n",
    "        toute les cellules appartenant au labyrinthe.\n",
    "        \n",
    "        :param c: Tuple représentant une cellule d'un labyrinthe\n",
    "        :return: Retourne une liste\n",
    "        \"\"\"\n",
    "        listeContiguous = []\n",
    "        if c[1]-1 >= 0 :\n",
    "            listeContiguous.append((c[0], c[1]-1))\n",
    "        if c[1]+1 < self.width :\n",
    "            listeContiguous.append((c[0], c[1]+1))\n",
    "        if c[0]-1 >= 0 :\n",
    "            listeContiguous.append((c[0]-1, c[1]))\n",
    "        if c[0]+1 < self.height :\n",
    "            listeContiguous.append((c[0]+1, c[1]))\n",
    "        return listeContiguous\n",
    "\n",
    "    def get_reachable_cells(self, c):\n",
    "        \"\"\"\n",
    "        Fonction qui liste les cellules voisines accessible par rapport à une cellule\n",
    "        mise en paramètre. On regarde la liste de ses voisins avec la fonction \n",
    "        précédente, puis on regarde si il y a un mur ou pas grâce à la liste\n",
    "        neighbors.\n",
    "        \n",
    "        :param c: Tuple représentant une cellule d'un labyrinthe\n",
    "        :return: Retourne une liste\n",
    "        \"\"\"\n",
    "        listeAccessible = []\n",
    "        for c1 in self.get_cells():\n",
    "            if c1 in self.neighbors[c]:\n",
    "                listeAccessible.append(c1)\n",
    "        return listeAccessible\n",
    "        \n",
    "    @classmethod\n",
    "    def gen_btree(cls, h, w):\n",
    "        \"\"\"\n",
    "        Méthode de classe qui génère un labyrinthe sous forme d'arbre binaire\n",
    "        :param h: Hauteur du labyrinthe de type int\n",
    "        :param w: Largeur du labyrinthe de type int\n",
    "        :return : Retourne un affichage du labyrinthe créé\n",
    "        \"\"\"\n",
    "        cls = Maze(h,w)\n",
    "        for c in cls.get_cells(): # On parcours toute les cellules du labyrinthe\n",
    "            cEst = (c[0],c[1]+1) \n",
    "            cSud = (c[0]+1,c[1])\n",
    "            \n",
    "            if cEst not in cls.get_cells() and cSud in cls.get_cells(): # Si cEst n'existe pas et que cSud existe \n",
    "                cls.remove_wall(c,cSud) # On supprime le mur cSud\n",
    "            else:\n",
    "                if cEst not in cls.neighbors[c] and cSud in cls.neighbors[c]: # Si seulement mur cEst est présent\n",
    "                    cls.remove_wall(c,cEst) # On supprime le mur cEst\n",
    "                    \n",
    "            if cSud not in cls.get_cells() and cEst in cls.get_cells(): # Si cSud n'existe pas et que cEst existe\n",
    "                cls.remove_wall(c,cEst) # On supprime le mur cEst\n",
    "            else:\n",
    "                if cSud not in cls.neighbors[c] and cEst in cls.neighbors[c]:# Si seulement mur cSud est présent\n",
    "                    cls.remove_wall(c,cSud) # On supprime le mur cSud\n",
    "                    \n",
    "            if cEst and cSud not in cls.neighbors[c]: ## Check si mur Sud ET mur Est existent\n",
    "                choix = random.randint(0,1) # 0 représente EST, 1 représente SUD\n",
    "                if choix == 0 and c[1]+1 < cls.width: # Si cellule EST existe\n",
    "                    cls.remove_wall(c,cEst)\n",
    "                if choix == 1 and c[0]+1 < cls.height: # Si cellule SUD existe\n",
    "                    cls.remove_wall(c,cSud)\n",
    "        return cls       \n",
    "    \n",
    "    @classmethod \n",
    "    def gen_sidewinder(cls, h, w):\n",
    "        \"\"\"\n",
    "        \"\"\"\n",
    "        cls = Maze(h,w)\n",
    "        for i in range(0, h-1):\n",
    "            sequence = []\n",
    "            for j in range(0, w-1):\n",
    "                sequence.append((i , j))\n",
    "                tirage = random.randint(0, 1)\n",
    "                if tirage == 0:\n",
    "                    cls.remove_wall(sequence[-1],  (sequence[-1][0], sequence[-1][1]+1))\n",
    "                else:\n",
    "                    tirageSud = random.randint(0, len(sequence)-1)\n",
    "                    cls.remove_wall(sequence[tirageSud], (sequence[tirageSud][0]+1, sequence[tirageSud][1]))\n",
    "            sequence.append((i, j+1))\n",
    "            tirageSud_Fin = random.randint(0, len(sequence)-1)\n",
    "            cls.remove_wall(sequence[tirageSud_Fin], (sequence[tirageSud_Fin][0]+1, sequence[tirageSud_Fin][1]))\n",
    "        \n",
    "        for cellule in range(w-1):\n",
    "            cls.remove_wall((h-1, cellule), (h-1, cellule+1))\n",
    "        \n",
    "        return cls\n",
    "    \n",
    "    @classmethod\n",
    "    def gen_fusion(cls, h, w):\n",
    "        \"\"\"\n",
    "        \"\"\"\n",
    "        cls = Maze(h, w) #Initialisation du labyrinthe avec tous les murs possibles\n",
    "        #Liste qui permet de stocker tous les labels des cellules\n",
    "        labels = [] \n",
    "        #Label de la première cellule \n",
    "        nombreLabel = 0 \n",
    "        #Parcours complet du labyrinthe \n",
    "        for i in range(h): \n",
    "            for j in range(w):\n",
    "                #On ajoute le label a la liste \n",
    "                labels.append(nombreLabel)\n",
    "                #On ajoute plus 1 pour la valeur du label de la prochaine cellule\n",
    "                nombreLabel += 1\n",
    "        #On extrait la liste de tous les murs \n",
    "        murs = cls.get_walls()\n",
    "        #On melange la liste de tous les murs \n",
    "        random.shuffle(murs)\n",
    "        #Pour chaque murs de la liste \n",
    "        for mur in range(len(murs)):\n",
    "            #On initialise les coordonées de chaque cellule qui entoure le mur\n",
    "            c1 = murs[mur][0]\n",
    "            c2 = murs[mur][1]\n",
    "            #On récupère le label de chaque cellule en fonction de la liste \"labels\"\n",
    "            label_c1 = labels[c1[0]*w + c1[1]]\n",
    "            label_c2 = labels[c2[0]*w + c2[1]]\n",
    "            #Si les deux cellules séparées par le mur n'ont pas le meme label\n",
    "            if label_c1 != label_c2:\n",
    "                #On casse le mur\n",
    "                cls.remove_wall(c1, c2)\n",
    "                #On affecte la valeur de label_c1 a label_c2\n",
    "                labels[label_c2] = label_c1\n",
    "                for label in range(len(labels)):\n",
    "                    if labels[label] == label_c2:\n",
    "                        labels[label] = label_c1\n",
    "        return cls"
   ]
  },
  {
   "cell_type": "code",
   "execution_count": 3,
   "id": "4dbdd2b2",
   "metadata": {},
   "outputs": [
    {
     "name": "stdout",
     "output_type": "stream",
     "text": [
      "┏━━━┳━━━┳━━━┳━━━┳━━━┓\n",
      "┃   ┃   ┃   ┃   ┃   ┃\n",
      "┣━━━╋━━━╋━━━╋━━━╋━━━┫\n",
      "┃   ┃   ┃   ┃   ┃   ┃\n",
      "┣━━━╋━━━╋━━━╋━━━╋━━━┫\n",
      "┃   ┃   ┃   ┃   ┃   ┃\n",
      "┣━━━╋━━━╋━━━╋━━━╋━━━┫\n",
      "┃   ┃   ┃   ┃   ┃   ┃\n",
      "┣━━━╋━━━╋━━━╋━━━╋━━━┫\n",
      "┃   ┃   ┃   ┃   ┃   ┃\n",
      "┗━━━┻━━━┻━━━┻━━━┻━━━┛\n",
      "\n"
     ]
    }
   ],
   "source": [
    "# Construction labyrinthe 5*5 :\n",
    "laby = Maze(5, 5)\n",
    "print(laby)"
   ]
  },
  {
   "cell_type": "code",
   "execution_count": 4,
   "id": "e7de0bf3",
   "metadata": {},
   "outputs": [
    {
     "name": "stdout",
     "output_type": "stream",
     "text": [
      "┏━━━┳━━━┳━━━┳━━━┳━━━┓\n",
      "┃                   ┃\n",
      "┣   ╋   ╋   ╋   ╋   ┫\n",
      "┃                   ┃\n",
      "┣   ╋   ╋   ╋   ╋   ┫\n",
      "┃                   ┃\n",
      "┣   ╋   ╋   ╋   ╋   ┫\n",
      "┃                   ┃\n",
      "┣   ╋   ╋   ╋   ╋   ┫\n",
      "┃                   ┃\n",
      "┗━━━┻━━━┻━━━┻━━━┻━━━┛\n",
      "\n"
     ]
    }
   ],
   "source": [
    "# Test de la fonction empty() :\n",
    "\n",
    "laby.empty()\n",
    "print(laby)"
   ]
  },
  {
   "cell_type": "code",
   "execution_count": 5,
   "id": "539cfe95",
   "metadata": {},
   "outputs": [
    {
     "name": "stdout",
     "output_type": "stream",
     "text": [
      "┏━━━┳━━━┳━━━┳━━━┳━━━┓\n",
      "┃   ┃   ┃   ┃   ┃   ┃\n",
      "┣━━━╋━━━╋━━━╋━━━╋━━━┫\n",
      "┃   ┃   ┃   ┃   ┃   ┃\n",
      "┣━━━╋━━━╋━━━╋━━━╋━━━┫\n",
      "┃   ┃   ┃   ┃   ┃   ┃\n",
      "┣━━━╋━━━╋━━━╋━━━╋━━━┫\n",
      "┃   ┃   ┃   ┃   ┃   ┃\n",
      "┣━━━╋━━━╋━━━╋━━━╋━━━┫\n",
      "┃   ┃   ┃   ┃   ┃   ┃\n",
      "┗━━━┻━━━┻━━━┻━━━┻━━━┛\n",
      "\n"
     ]
    }
   ],
   "source": [
    "# Test de la fonction fill() :\n",
    "\n",
    "laby.fill()\n",
    "print(laby)"
   ]
  },
  {
   "cell_type": "code",
   "execution_count": 6,
   "id": "951e09be",
   "metadata": {},
   "outputs": [
    {
     "name": "stdout",
     "output_type": "stream",
     "text": [
      "┏━━━┳━━━┳━━━┳━━━┳━━━┓\n",
      "┃       ┃   ┃   ┃   ┃\n",
      "┣━━━╋━━━╋━━━╋━━━╋━━━┫\n",
      "┃   ┃   ┃   ┃   ┃   ┃\n",
      "┣━━━╋━━━╋━━━╋━━━╋━━━┫\n",
      "┃   ┃   ┃   ┃   ┃   ┃\n",
      "┣━━━╋━━━╋━━━╋━━━╋━━━┫\n",
      "┃   ┃   ┃   ┃   ┃   ┃\n",
      "┣━━━╋━━━╋━━━╋━━━╋━━━┫\n",
      "┃   ┃   ┃   ┃   ┃   ┃\n",
      "┗━━━┻━━━┻━━━┻━━━┻━━━┛\n",
      "\n"
     ]
    }
   ],
   "source": [
    "# Test de la fonction remove_wall() : \n",
    "\n",
    "laby.remove_wall((0, 0), (0, 1))\n",
    "print(laby)"
   ]
  },
  {
   "cell_type": "code",
   "execution_count": 7,
   "id": "8e248146",
   "metadata": {},
   "outputs": [
    {
     "name": "stdout",
     "output_type": "stream",
     "text": [
      "┏━━━┳━━━┳━━━┳━━━┳━━━┓\n",
      "┃   ┃               ┃\n",
      "┣   ╋━━━╋   ╋   ╋   ┫\n",
      "┃                   ┃\n",
      "┣   ╋   ╋   ╋   ╋   ┫\n",
      "┃                   ┃\n",
      "┣   ╋   ╋   ╋   ╋   ┫\n",
      "┃                   ┃\n",
      "┣   ╋   ╋   ╋   ╋   ┫\n",
      "┃                   ┃\n",
      "┗━━━┻━━━┻━━━┻━━━┻━━━┛\n",
      "\n"
     ]
    }
   ],
   "source": [
    "laby.empty()\n",
    "laby.add_wall((0, 0), (0, 1))\n",
    "laby.add_wall((0, 1), (1, 1))\n",
    "print(laby)"
   ]
  },
  {
   "cell_type": "code",
   "execution_count": 8,
   "id": "ef79adcf",
   "metadata": {},
   "outputs": [
    {
     "name": "stdout",
     "output_type": "stream",
     "text": [
      "[((0, 0), (0, 1)), ((0, 1), (1, 1))]\n"
     ]
    }
   ],
   "source": [
    "# Test de la fonction get_walls() : \n",
    "\n",
    "print(laby.get_walls())"
   ]
  },
  {
   "cell_type": "code",
   "execution_count": 9,
   "id": "49cc4daa",
   "metadata": {},
   "outputs": [
    {
     "name": "stdout",
     "output_type": "stream",
     "text": [
      "[(0, 0), (0, 2), (1, 1)]\n"
     ]
    }
   ],
   "source": [
    "# Test de la fonction get_contiguous_cells() :\n",
    "\n",
    "print(laby.get_contiguous_cells((0,1)))"
   ]
  },
  {
   "cell_type": "code",
   "execution_count": 10,
   "id": "fcff6316",
   "metadata": {},
   "outputs": [
    {
     "name": "stdout",
     "output_type": "stream",
     "text": [
      "[(0, 2)]\n"
     ]
    }
   ],
   "source": [
    "# Test de la fonction get_reachable_cells() :\n",
    "\n",
    "print(laby.get_reachable_cells((0, 1)))"
   ]
  },
  {
   "cell_type": "markdown",
   "id": "70fd28ef",
   "metadata": {},
   "source": [
    "## 5. Génération\n",
    "### 5.1 Arbre binaire"
   ]
  },
  {
   "cell_type": "code",
   "execution_count": 11,
   "id": "de4e372b",
   "metadata": {},
   "outputs": [
    {
     "name": "stdout",
     "output_type": "stream",
     "text": [
      "┏━━━┳━━━┳━━━┳━━━┓\n",
      "┃       ┃   ┃   ┃\n",
      "┣━━━╋   ╋   ╋   ┫\n",
      "┃   ┃   ┃   ┃   ┃\n",
      "┣   ╋   ╋   ╋   ┫\n",
      "┃               ┃\n",
      "┣━━━╋━━━╋━━━╋   ┫\n",
      "┃               ┃\n",
      "┗━━━┻━━━┻━━━┻━━━┛\n",
      "\n"
     ]
    }
   ],
   "source": [
    "# Test de l'algorithme de génération par abre binaire : \n",
    "\n",
    "laby = Maze.gen_btree(4, 4)\n",
    "print(laby)"
   ]
  },
  {
   "cell_type": "markdown",
   "id": "ebcdb817",
   "metadata": {},
   "source": [
    "### 5.2 Sidewinder"
   ]
  },
  {
   "cell_type": "code",
   "execution_count": 12,
   "id": "2967d438",
   "metadata": {},
   "outputs": [
    {
     "name": "stdout",
     "output_type": "stream",
     "text": [
      "┏━━━┳━━━┳━━━┳━━━┓\n",
      "┃           ┃   ┃\n",
      "┣━━━╋━━━╋   ╋   ┫\n",
      "┃   ┃       ┃   ┃\n",
      "┣   ╋━━━╋━━━╋━━━┫\n",
      "┃   ┃       ┃   ┃\n",
      "┣   ╋━━━╋   ╋━━━┫\n",
      "┃               ┃\n",
      "┗━━━┻━━━┻━━━┻━━━┛\n",
      "\n"
     ]
    }
   ],
   "source": [
    "# Test de l'algorithme de génération sidewinder :\n",
    "\n",
    "laby = Maze.gen_sidewinder(4, 4)\n",
    "print(laby)"
   ]
  },
  {
   "cell_type": "markdown",
   "id": "e1ec99ea",
   "metadata": {},
   "source": [
    "### 5.3 Fusion de chemins"
   ]
  },
  {
   "cell_type": "code",
   "execution_count": 27,
   "id": "ab06cc71",
   "metadata": {},
   "outputs": [
    {
     "name": "stdout",
     "output_type": "stream",
     "text": [
      "┏━━━┳━━━┳━━━┳━━━┳━━━┳━━━┳━━━┳━━━┳━━━┳━━━┳━━━┳━━━┳━━━┳━━━┳━━━┓\n",
      "┃                   ┃   ┃       ┃   ┃       ┃       ┃   ┃   ┃\n",
      "┣   ╋━━━╋━━━╋━━━╋━━━╋   ╋━━━╋   ╋   ╋   ╋━━━╋━━━╋   ╋   ╋   ┫\n",
      "┃   ┃           ┃   ┃       ┃   ┃       ┃           ┃       ┃\n",
      "┣   ╋   ╋━━━╋━━━╋   ╋━━━╋   ╋   ╋   ╋   ╋   ╋━━━╋   ╋   ╋━━━┫\n",
      "┃                       ┃       ┃   ┃   ┃   ┃       ┃       ┃\n",
      "┣━━━╋━━━╋   ╋━━━╋   ╋   ╋   ╋━━━╋   ╋━━━╋   ╋   ╋━━━╋   ╋   ┫\n",
      "┃       ┃   ┃       ┃   ┃       ┃           ┃           ┃   ┃\n",
      "┣   ╋   ╋━━━╋   ╋   ╋━━━╋   ╋━━━╋━━━╋━━━╋━━━╋━━━╋   ╋━━━╋   ┫\n",
      "┃   ┃           ┃       ┃               ┃   ┃           ┃   ┃\n",
      "┣   ╋━━━╋━━━╋━━━╋   ╋   ╋━━━╋   ╋   ╋━━━╋   ╋   ╋   ╋━━━╋   ┫\n",
      "┃   ┃               ┃           ┃       ┃       ┃       ┃   ┃\n",
      "┣   ╋━━━╋   ╋   ╋━━━╋   ╋   ╋━━━╋━━━╋   ╋   ╋   ╋   ╋━━━╋   ┫\n",
      "┃   ┃   ┃   ┃   ┃   ┃   ┃   ┃       ┃   ┃   ┃   ┃       ┃   ┃\n",
      "┣━━━╋   ╋   ╋━━━╋   ╋   ╋   ╋   ╋━━━╋━━━╋━━━╋━━━╋   ╋━━━╋━━━┫\n",
      "┃                   ┃   ┃       ┃   ┃                       ┃\n",
      "┣━━━╋━━━╋   ╋   ╋━━━╋━━━╋━━━╋   ╋   ╋━━━╋━━━╋   ╋   ╋━━━╋   ┫\n",
      "┃   ┃       ┃       ┃       ┃       ┃   ┃       ┃   ┃       ┃\n",
      "┣   ╋━━━╋   ╋━━━╋   ╋━━━╋   ╋━━━╋━━━╋   ╋━━━╋   ╋━━━╋━━━╋   ┫\n",
      "┃   ┃   ┃   ┃       ┃       ┃   ┃           ┃       ┃   ┃   ┃\n",
      "┣   ╋   ╋━━━╋━━━╋   ╋━━━╋   ╋   ╋━━━╋   ╋━━━╋   ╋━━━╋   ╋━━━┫\n",
      "┃   ┃           ┃       ┃                   ┃   ┃           ┃\n",
      "┣   ╋   ╋━━━╋━━━╋━━━╋   ╋━━━╋━━━╋   ╋━━━╋━━━╋   ╋   ╋━━━╋━━━┫\n",
      "┃               ┃                           ┃   ┃           ┃\n",
      "┣━━━╋   ╋━━━╋   ╋   ╋━━━╋━━━╋   ╋━━━╋━━━╋   ╋   ╋   ╋━━━╋   ┫\n",
      "┃       ┃                   ┃   ┃           ┃           ┃   ┃\n",
      "┣━━━╋━━━╋   ╋━━━╋━━━╋━━━╋━━━╋   ╋━━━╋   ╋   ╋   ╋━━━╋   ╋━━━┫\n",
      "┃                           ┃   ┃       ┃   ┃   ┃           ┃\n",
      "┣   ╋━━━╋   ╋━━━╋   ╋   ╋   ╋━━━╋   ╋   ╋   ╋   ╋━━━╋━━━╋━━━┫\n",
      "┃       ┃   ┃       ┃   ┃       ┃   ┃   ┃                   ┃\n",
      "┗━━━┻━━━┻━━━┻━━━┻━━━┻━━━┻━━━┻━━━┻━━━┻━━━┻━━━┻━━━┻━━━┻━━━┻━━━┛\n",
      "\n"
     ]
    }
   ],
   "source": [
    "# Test de l'algorythme de fusion de chemins :\n",
    "\n",
    "laby = Maze.gen_fusion(15, 15)\n",
    "print(laby)"
   ]
  }
 ],
 "metadata": {
  "kernelspec": {
   "display_name": "Python 3 (ipykernel)",
   "language": "python",
   "name": "python3"
  },
  "language_info": {
   "codemirror_mode": {
    "name": "ipython",
    "version": 3
   },
   "file_extension": ".py",
   "mimetype": "text/x-python",
   "name": "python",
   "nbconvert_exporter": "python",
   "pygments_lexer": "ipython3",
   "version": "3.8.10"
  }
 },
 "nbformat": 4,
 "nbformat_minor": 5
}
